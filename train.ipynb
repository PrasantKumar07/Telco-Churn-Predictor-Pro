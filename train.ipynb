{
 "cells": [
  {
   "cell_type": "code",
   "execution_count": null,
   "id": "0f0a3dd4",
   "metadata": {},
   "outputs": [],
   "source": [
    "# Import Liabraries\n",
    "import pandas as pd\n",
    "from sklearn.model_selection import train_test_split\n",
    "from sklearn.preprocessing import LabelEncoder\n",
    "from sklearn.ensemble import RandomForestClassifier\n",
    "from sklearn.metrics import accuracy_score, classification_report, confusion_matrix\n",
    "import pickle"
   ]
  },
  {
   "cell_type": "code",
   "execution_count": null,
   "id": "3c31a9e7",
   "metadata": {},
   "outputs": [],
   "source": [
    "# Load and preprocess data\n",
    "df = pd.read_csv(r\"Telco_Customer_Churn_Dataset.csv\")"
   ]
  },
  {
   "cell_type": "code",
   "execution_count": null,
   "id": "eb8861d4",
   "metadata": {},
   "outputs": [],
   "source": [
    "# Convert TotalCharges to numeric, coercing errors to NaN\n",
    "df['TotalCharges'] = pd.to_numeric(df['TotalCharges'], errors='coerce')"
   ]
  },
  {
   "cell_type": "code",
   "execution_count": null,
   "id": "cb2b3b2d",
   "metadata": {},
   "outputs": [],
   "source": [
    "# Drop rows with missing values that were created\n",
    "df = df.dropna()"
   ]
  },
  {
   "cell_type": "code",
   "execution_count": null,
   "id": "687484d6",
   "metadata": {},
   "outputs": [],
   "source": [
    "# --- Encoding Categorical Variables ---\n",
    "label_encoders = {}\n",
    "for col in df.select_dtypes(include=['object']).columns:\n",
    "    if col != 'Churn': # We don't encode the target variable yet\n",
    "        le = LabelEncoder()\n",
    "        df[col] = le.fit_transform(df[col])\n",
    "        label_encoders[col] = le\n",
    "\n",
    "# Encode the target variable separately\n",
    "churn_le = LabelEncoder()\n",
    "df['Churn'] = churn_le.fit_transform(df['Churn'])\n",
    "label_encoders['Churn'] = churn_le "
   ]
  },
  {
   "cell_type": "code",
   "execution_count": null,
   "id": "80225ade",
   "metadata": {},
   "outputs": [],
   "source": [
    "# --- Prepare Features and Target ---\n",
    "x = df.drop(columns=['Churn'])\n",
    "y = df['Churn']"
   ]
  },
  {
   "cell_type": "code",
   "execution_count": null,
   "id": "88492506",
   "metadata": {},
   "outputs": [],
   "source": [
    "# Save the column order\n",
    "model_columns = x.columns\n",
    "with open('model_columns.pkl', 'wb') as file:\n",
    "    pickle.dump(model_columns, file)"
   ]
  },
  {
   "cell_type": "code",
   "execution_count": null,
   "id": "d3157aad",
   "metadata": {},
   "outputs": [],
   "source": [
    "# --- Split Data ---\n",
    "x_train, x_test, y_train, y_test = train_test_split(x, y, test_size=0.3, random_state=42)"
   ]
  },
  {
   "cell_type": "code",
   "execution_count": null,
   "id": "8171ded9",
   "metadata": {},
   "outputs": [],
   "source": [
    "# --- Train Model ---\n",
    "model = RandomForestClassifier(\n",
    "    random_state=0,\n",
    "    n_estimators=150,\n",
    "    min_samples_split=5,\n",
    "    min_samples_leaf=1,\n",
    "    max_features='log2',\n",
    "    max_depth=None,\n",
    "    criterion='gini',\n",
    "    bootstrap=True\n",
    ")\n",
    "\n",
    "model.fit(x_train, y_train)"
   ]
  },
  {
   "cell_type": "code",
   "execution_count": null,
   "id": "f149daef",
   "metadata": {},
   "outputs": [],
   "source": [
    "# --- Metrics ---\n",
    "y_pred = model.predict(x_test)"
   ]
  },
  {
   "cell_type": "code",
   "execution_count": 5,
   "id": "42cc0e9d",
   "metadata": {},
   "outputs": [
    {
     "name": "stdout",
     "output_type": "stream",
     "text": [
      "Accuracy : 90.8030803080308\n"
     ]
    }
   ],
   "source": [
    "print('Accuracy :', accuracy_score(y_test, y_pred)*100)"
   ]
  },
  {
   "cell_type": "code",
   "execution_count": 6,
   "id": "283479a4",
   "metadata": {},
   "outputs": [
    {
     "name": "stdout",
     "output_type": "stream",
     "text": [
      "Classification Report :\n",
      "               precision    recall  f1-score   support\n",
      "\n",
      "           0       0.92      0.96      0.94      3314\n",
      "           1       0.88      0.76      0.82      1231\n",
      "\n",
      "    accuracy                           0.91      4545\n",
      "   macro avg       0.90      0.86      0.88      4545\n",
      "weighted avg       0.91      0.91      0.91      4545\n",
      "\n"
     ]
    }
   ],
   "source": [
    "print('Classification Report :\\n', classification_report(y_test, y_pred))"
   ]
  },
  {
   "cell_type": "code",
   "execution_count": 7,
   "id": "20210ed0",
   "metadata": {},
   "outputs": [
    {
     "name": "stdout",
     "output_type": "stream",
     "text": [
      "Confusion Matrix :\n",
      " [[3192  122]\n",
      " [ 296  935]]\n"
     ]
    }
   ],
   "source": [
    "print('Confusion Matrix :\\n', confusion_matrix(y_test, y_pred))"
   ]
  },
  {
   "cell_type": "code",
   "execution_count": null,
   "id": "e7777f9c",
   "metadata": {},
   "outputs": [
    {
     "name": "stdout",
     "output_type": "stream",
     "text": [
      "Starting the training process...\n",
      "Data preprocessing and encoding complete.\n",
      "Training the RandomForest model...\n",
      "Model training complete.\n",
      "\n",
      "✅ Model, encoders, and column list have been saved successfully!\n",
      "You can now run the Flask app using 'app.py'.\n"
     ]
    }
   ],
   "source": [
    "# --- Save Model and Encoders ---\n",
    "with open('churn_model.pkl', 'wb') as file:\n",
    "    pickle.dump(model, file)\n",
    "\n",
    "with open('label_encoders.pkl', 'wb') as file:\n",
    "    pickle.dump(label_encoders, file)\n",
    "\n",
    "print(\"\\n✅ Model, encoders, and column list have been saved successfully!\")\n",
    "print(\"You can now run the Flask app using 'app.py'.\")"
   ]
  }
 ],
 "metadata": {
  "kernelspec": {
   "display_name": "Python 3",
   "language": "python",
   "name": "python3"
  },
  "language_info": {
   "codemirror_mode": {
    "name": "ipython",
    "version": 3
   },
   "file_extension": ".py",
   "mimetype": "text/x-python",
   "name": "python",
   "nbconvert_exporter": "python",
   "pygments_lexer": "ipython3",
   "version": "3.13.4"
  }
 },
 "nbformat": 4,
 "nbformat_minor": 5
}
